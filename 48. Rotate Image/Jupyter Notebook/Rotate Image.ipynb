{
 "cells": [
  {
   "cell_type": "code",
   "execution_count": 8,
   "metadata": {},
   "outputs": [
    {
     "name": "stdout",
     "output_type": "stream",
     "text": [
      "[[7, 4, 1], [8, 5, 2], [9, 6, 3]]\n"
     ]
    }
   ],
   "source": [
    "## Leetcode Practice\n",
    "# -- 48. Rotate Image --\n",
    "\n",
    "# Solution\n",
    "# Runtime: 47 ms, Memory 13.9 MB\n",
    "class Solution:\n",
    "    def rotate(matrix) -> None:\n",
    "        \"\"\"\n",
    "        Do not return anything, modify matrix in-place instead.\n",
    "        \"\"\"\n",
    "        for shift_time in range(len(matrix)-1,0,-1):\n",
    "            count = 1\n",
    "            while count <= shift_time:\n",
    "                matrix[count-1], matrix[count] = matrix[count], matrix[count-1]\n",
    "                count+=1\n",
    "        \n",
    "\n",
    "        for i in range(len(matrix[0])):\n",
    "            for j in range(i,len(matrix)):\n",
    "                matrix[i][j], matrix[j][i] = matrix[j][i], matrix[i][j]\n",
    "        print(matrix)\n",
    "\n",
    "# Main\n",
    "testcase_1 = [[1,2,3],[4,5,6],[7,8,9]]\n",
    "testcase_2 = [[5,1,9,11],[2,4,8,10],[13,3,6,7],[15,14,12,16]]\n",
    "\n",
    "Solution.rotate(testcase_1)\n"
   ]
  }
 ],
 "metadata": {
  "kernelspec": {
   "display_name": "Python 3.8.13 ('pytorch')",
   "language": "python",
   "name": "python3"
  },
  "language_info": {
   "codemirror_mode": {
    "name": "ipython",
    "version": 3
   },
   "file_extension": ".py",
   "mimetype": "text/x-python",
   "name": "python",
   "nbconvert_exporter": "python",
   "pygments_lexer": "ipython3",
   "version": "3.8.13"
  },
  "orig_nbformat": 4,
  "vscode": {
   "interpreter": {
    "hash": "8105fc34f84f95f35c6f2d876cc3e9ecd00131f83b1f6204b82a7a9426cdf110"
   }
  }
 },
 "nbformat": 4,
 "nbformat_minor": 2
}
